{
 "cells": [
  {
   "cell_type": "code",
   "execution_count": 1,
   "metadata": {},
   "outputs": [],
   "source": [
    "import pandas as pd"
   ]
  },
  {
   "cell_type": "code",
   "execution_count": 50,
   "metadata": {},
   "outputs": [],
   "source": [
    "all_items = pd.read_csv('https://download.bls.gov/pub/time.series/cu/cu.data.1.AllItems', sep='\\t')\n",
    "all_items = all_items.applymap(lambda x: x.strip() if isinstance(x, str) else x)\n",
    "all_items.columns = [x.strip() for x in all_items.columns]\n",
    "\n",
    "series_descriptions = pd.read_csv('https://download.bls.gov/pub/time.series/cu/cu.series', sep='\\t')\n",
    "series_descriptions = series_descriptions.applymap(lambda x: x.strip() if isinstance(x, str) else x)\n",
    "series_descriptions.columns = [x.strip() for x in series_descriptions.columns]\n",
    "\n",
    "period_description = pd.read_csv('https://download.bls.gov/pub/time.series/cu/cu.period', sep='\\t')\n",
    "period_description = period_description.applymap(lambda x: x.strip() if isinstance(x, str) else x)\n",
    "period_description.columns = [x.strip() for x in period_description.columns]\n",
    "\n",
    "periodicity_description = pd.read_csv('https://download.bls.gov/pub/time.series/cu/cu.periodicity', sep='\\t')\n",
    "periodicity_description = periodicity_description.applymap(lambda x: x.strip() if isinstance(x, str) else x)\n",
    "periodicity_description.columns = [x.strip() for x in periodicity_description.columns]\n",
    "\n",
    "seasonal_description = pd.read_csv('https://download.bls.gov/pub/time.series/cu/cu.seasonal', sep='\\t')\n",
    "seasonal_description = seasonal_description.applymap(lambda x: x.strip() if isinstance(x, str) else x)\n",
    "seasonal_description.columns = [x.strip() for x in seasonal_description.columns]"
   ]
  },
  {
   "cell_type": "code",
   "execution_count": 128,
   "metadata": {},
   "outputs": [],
   "source": [
    "#enhance timeseries data with meta data located in other files.\n",
    "all_items_enhanced = all_items.merge(series_descriptions, how='left',  left_on='series_id', right_on='series_id')\n",
    "all_items_enhanced = all_items_enhanced.merge(period_description, how='left',  left_on='period', right_on='period')\n",
    "all_items_enhanced = all_items_enhanced.merge(periodicity_description, how='left',  left_on='periodicity_code', right_on='periodicity_code')\n",
    "all_items_enhanced = all_items_enhanced.merge(seasonal_description, how='left',  left_on='seasonal', right_on='seasonal_code')"
   ]
  },
  {
   "cell_type": "code",
   "execution_count": 130,
   "metadata": {},
   "outputs": [],
   "source": [
    "# 1. filter to only the monthly data. \n",
    "# 2. add a datetime column\n",
    "# 3. sort rows by dates. \n",
    "# 4. set multi-index to series_id and date for easy access. \n",
    "\n",
    "periods_wanted = [ 'January', 'February', 'March', 'April', 'May', 'June', 'July', 'August', 'September', 'October', 'November', 'December' ]\n",
    "all_items_enhanced = all_items_enhanced[ all_items_enhanced.period_name.isin(periods_wanted)].reset_index()\n",
    "all_items_enhanced['date'] = pd.to_datetime(all_items_enhanced['period'].str[-2:] + '/' +  all_items_enhanced['year'].astype(str), format='%m/%Y') + pd.offsets.MonthEnd(0)\n",
    "all_items_enhanced = all_items_enhanced.sort_values('date')\n",
    "all_items_enhanced = all_items_enhanced.set_index(['series_id', 'date'])"
   ]
  },
  {
   "cell_type": "code",
   "execution_count": null,
   "metadata": {},
   "outputs": [],
   "source": [
    "all_items_enhanced"
   ]
  },
  {
   "cell_type": "code",
   "execution_count": 125,
   "metadata": {},
   "outputs": [
    {
     "data": {
      "text/plain": [
       "date\n",
       "1913-01-31         NaN\n",
       "1913-02-28         NaN\n",
       "1913-03-31         NaN\n",
       "1913-04-30         NaN\n",
       "1913-05-31         NaN\n",
       "                ...   \n",
       "2021-10-31    0.062219\n",
       "2021-11-30    0.068090\n",
       "2021-12-31    0.070364\n",
       "2022-01-31    0.074799\n",
       "2022-02-28    0.078711\n",
       "Name: value, Length: 1310, dtype: float64"
      ]
     },
     "execution_count": 125,
     "metadata": {},
     "output_type": "execute_result"
    }
   ],
   "source": [
    "all_items_enhanced.xs('CUUR0000SA0', level='series_id')['value'].pct_change(12)"
   ]
  },
  {
   "cell_type": "code",
   "execution_count": 126,
   "metadata": {},
   "outputs": [
    {
     "data": {
      "text/plain": [
       "date\n",
       "1947-01-31         NaN\n",
       "1947-02-28    0.006518\n",
       "1947-03-31    0.017576\n",
       "1947-04-30    0.000000\n",
       "1947-05-31   -0.002273\n",
       "                ...   \n",
       "2021-10-31    0.008665\n",
       "2021-11-30    0.006992\n",
       "2021-12-31    0.005752\n",
       "2022-01-31    0.006451\n",
       "2022-02-28    0.007977\n",
       "Name: value, Length: 902, dtype: float64"
      ]
     },
     "execution_count": 126,
     "metadata": {},
     "output_type": "execute_result"
    }
   ],
   "source": [
    "all_items_enhanced.xs('CUSR0000SA0', level='series_id')['value'].pct_change(1)"
   ]
  }
 ],
 "metadata": {
  "interpreter": {
   "hash": "bd41b1c5bcb29f35dd9e5be828591988549de760606d9b56bca42edee5aa471b"
  },
  "kernelspec": {
   "display_name": "quant",
   "language": "python",
   "name": "quant"
  },
  "language_info": {
   "codemirror_mode": {
    "name": "ipython",
    "version": 3
   },
   "file_extension": ".py",
   "mimetype": "text/x-python",
   "name": "python",
   "nbconvert_exporter": "python",
   "pygments_lexer": "ipython3",
   "version": "3.7.7"
  },
  "orig_nbformat": 4
 },
 "nbformat": 4,
 "nbformat_minor": 2
}
