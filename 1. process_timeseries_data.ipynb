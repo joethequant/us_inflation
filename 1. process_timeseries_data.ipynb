{
 "cells": [
  {
   "cell_type": "code",
   "execution_count": 1,
   "metadata": {},
   "outputs": [],
   "source": [
    "import pandas as pd\n",
    "import requests\n",
    "import re\n",
    "from bs4 import BeautifulSoup as bs"
   ]
  },
  {
   "cell_type": "code",
   "execution_count": 2,
   "metadata": {},
   "outputs": [],
   "source": [
    "###### use this to get current list of links:\n",
    "# req = requests.get('https://download.bls.gov/pub/time.series/cu/')\n",
    "# soup = bs(req.text)\n",
    "\n",
    "# links = []\n",
    "# for link in soup.findAll('a'):\n",
    "#     print(link.get('href'))\n",
    "\n",
    "list_of_links = [\n",
    "# '/pub/time.series/cu/cu.data.1.AllItems',\n",
    "'/pub/time.series/cu/cu.data.11.USFoodBeverage',\n",
    "'/pub/time.series/cu/cu.data.12.USHousing',\n",
    "'/pub/time.series/cu/cu.data.13.USApparel',\n",
    "'/pub/time.series/cu/cu.data.14.USTransportation',\n",
    "'/pub/time.series/cu/cu.data.15.USMedical',\n",
    "'/pub/time.series/cu/cu.data.16.USRecreation',\n",
    "'/pub/time.series/cu/cu.data.17.USEducationAndCommunication',\n",
    "'/pub/time.series/cu/cu.data.18.USOtherGoodsAndServices',\n",
    "'/pub/time.series/cu/cu.data.20.USCommoditiesServicesSpecial',\n",
    "]\n",
    "\n",
    "all_items = pd.DataFrame()\n",
    "\n",
    "for link in list_of_links:\n",
    "    #all timeseries data from bls.\n",
    "    sub_dataset = pd.read_csv(f'https://download.bls.gov{link}', sep='\\t')\n",
    "    sub_dataset = sub_dataset.applymap(lambda x: x.strip() if isinstance(x, str) else x)\n",
    "    sub_dataset.columns = [x.strip() for x in sub_dataset.columns]\n",
    "\n",
    "    all_items = pd.concat([all_items, sub_dataset], axis=0)"
   ]
  },
  {
   "cell_type": "code",
   "execution_count": 3,
   "metadata": {},
   "outputs": [],
   "source": [
    "#series description or meta information data from bls.\n",
    "series_descriptions = pd.read_csv('https://download.bls.gov/pub/time.series/cu/cu.series', sep='\\t')\n",
    "series_descriptions = series_descriptions.applymap(lambda x: x.strip() if isinstance(x, str) else x)\n",
    "series_descriptions.columns = [x.strip() for x in series_descriptions.columns]\n",
    "\n",
    "#period description from bls.\n",
    "period_description = pd.read_csv('https://download.bls.gov/pub/time.series/cu/cu.period', sep='\\t')\n",
    "period_description = period_description.applymap(lambda x: x.strip() if isinstance(x, str) else x)\n",
    "period_description.columns = [x.strip() for x in period_description.columns]\n",
    "\n",
    "# periodicity desciption from BLS, monthly, or other. We only care about monthly.\n",
    "periodicity_description = pd.read_csv('https://download.bls.gov/pub/time.series/cu/cu.periodicity', sep='\\t')\n",
    "periodicity_description = periodicity_description.applymap(lambda x: x.strip() if isinstance(x, str) else x)\n",
    "periodicity_description.columns = [x.strip() for x in periodicity_description.columns]\n",
    "\n",
    "# seasonallity description from BLS, if data is seasonally adjusted or not.\n",
    "seasonal_description = pd.read_csv('https://download.bls.gov/pub/time.series/cu/cu.seasonal', sep='\\t')\n",
    "seasonal_description = seasonal_description.applymap(lambda x: x.strip() if isinstance(x, str) else x)\n",
    "seasonal_description.columns = [x.strip() for x in seasonal_description.columns]"
   ]
  },
  {
   "cell_type": "code",
   "execution_count": 4,
   "metadata": {},
   "outputs": [],
   "source": [
    "#enhance timeseries data with meta data located in other files.\n",
    "all_items_enhanced = all_items.merge(series_descriptions, how='left',  left_on='series_id', right_on='series_id')\n",
    "all_items_enhanced = all_items_enhanced.merge(period_description, how='left',  left_on='period', right_on='period')\n",
    "all_items_enhanced = all_items_enhanced.merge(periodicity_description, how='left',  left_on='periodicity_code', right_on='periodicity_code')\n",
    "all_items_enhanced = all_items_enhanced.merge(seasonal_description, how='left',  left_on='seasonal', right_on='seasonal_code')"
   ]
  },
  {
   "cell_type": "code",
   "execution_count": 5,
   "metadata": {},
   "outputs": [],
   "source": [
    "# 1. filter to only the monthly data. \n",
    "# 2. add a datetime column\n",
    "# 3. sort rows by dates. \n",
    "# 4. set multi-index to series_id and date for easy access. \n",
    "\n",
    "periods_wanted = [ 'January', 'February', 'March', 'April', 'May', 'June', 'July', 'August', 'September', 'October', 'November', 'December' ]\n",
    "all_items_enhanced = all_items_enhanced[ all_items_enhanced.period_name.isin(periods_wanted)].reset_index()\n",
    "all_items_enhanced['date'] = pd.to_datetime(all_items_enhanced['period'].str[-2:] + '/' +  all_items_enhanced['year'].astype(str), format='%m/%Y') + pd.offsets.MonthEnd(0)\n",
    "all_items_enhanced = all_items_enhanced.sort_values('date')\n",
    "all_items_enhanced = all_items_enhanced.set_index(['series_id', 'date'])\n",
    "\n",
    "all_items_enhanced.to_pickle('datastore/processed_data/all_items_enhanced.pickle')\n",
    "all_items_enhanced.to_csv('datastore/processed_data/all_items_enhanced.csv')\n",
    "# series_descriptions.to_csv('datastore/processed_data/series_descriptions.csv')"
   ]
  }
 ],
 "metadata": {
  "interpreter": {
   "hash": "bd41b1c5bcb29f35dd9e5be828591988549de760606d9b56bca42edee5aa471b"
  },
  "kernelspec": {
   "display_name": "Python 3 (ipykernel)",
   "language": "python",
   "name": "python3"
  },
  "language_info": {
   "codemirror_mode": {
    "name": "ipython",
    "version": 3
   },
   "file_extension": ".py",
   "mimetype": "text/x-python",
   "name": "python",
   "nbconvert_exporter": "python",
   "pygments_lexer": "ipython3",
   "version": "3.10.2"
  }
 },
 "nbformat": 4,
 "nbformat_minor": 2
}
